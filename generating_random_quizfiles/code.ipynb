{
 "cells": [
  {
   "cell_type": "code",
   "execution_count": 1,
   "id": "7e2c638d-16fa-4964-8ab6-65bfdcdc4a1b",
   "metadata": {},
   "outputs": [],
   "source": [
    "#step1_StoreTheQuizDataInDictionary\n",
    "capitals = {'Alabama': 'Montgomery', 'Alaska': 'Juneau', 'Arizona': 'Phoenix', 'Arkansas': 'Little Rock', 'California': 'Sacramento', 'Colorado': 'Denver', 'Connecticut': 'Hartford', 'Delaware': 'Dover', 'Florida': 'Tallahassee', 'Georgia': 'Atlanta', 'Hawaii': 'Honolulu', 'Idaho': 'Boise', 'Illinois': 'Springfield', 'Indiana': 'Indianapolis', 'Iowa': 'Des Moines', 'Kansas': 'Topeka', 'Kentucky': 'Frankfort', 'Louisiana': 'Baton Rouge', 'Maine': 'Augusta', 'Maryland': 'Annapolis', 'Massachusetts': 'Boston', 'Michigan': 'Lansing', 'Minnesota': 'Saint Paul', 'Mississippi': 'Jackson', 'Missouri': 'Jefferson City', 'Montana': 'Helena', 'Nebraska': 'Lincoln', 'Nevada': 'Carson City', 'New Hampshire': 'Concord', 'New Jersey': 'Trenton', 'New Mexico': 'Santa Fe', 'New York': 'Albany', 'North Carolina': 'Raleigh', 'North Dakota': 'Bismarck', 'Ohio': 'Columbus', 'Oklahoma': 'Oklahoma City', 'Oregon': 'Salem', 'Pennsylvania': 'Harrisburg', 'Rhode Island': 'Providence', 'South Carolina': 'Columbia', 'South Dakota': 'Pierre', 'Tennessee': 'Nashville', 'Texas': 'Austin', 'Utah': 'Salt Lake City', 'Vermont': 'Montpelier', 'Virginia': 'Richmond', 'Washington': 'Olympia', 'West Virginia': 'Charleston', 'Wisconsin': 'Madison', 'Wyoming': 'Cheyenne'}\n"
   ]
  },
  {
   "cell_type": "code",
   "execution_count": 3,
   "id": "8c757a3b-1281-4118-8039-dfa0c4a2e122",
   "metadata": {},
   "outputs": [
    {
     "data": {
      "text/plain": [
       "'C:\\\\Users\\\\vivek\\\\mlops\\\\step1\\\\GeneratingQuiz'"
      ]
     },
     "execution_count": 3,
     "metadata": {},
     "output_type": "execute_result"
    }
   ],
   "source": [
    "#checking cwd\n",
    "import os\n",
    "os.getcwd()"
   ]
  },
  {
   "cell_type": "code",
   "execution_count": 11,
   "id": "a403c292-079c-4c77-82af-bfd9d6501d48",
   "metadata": {},
   "outputs": [],
   "source": [
    "#step2_Generatingfiles\n",
    "import random\n",
    "for quizNum in range(35):\n",
    "    questionfile = open(f'qpaper{quizNum+1}.txt', 'w')\n",
    "    answerfile = open(f'apaper{quizNum+1}.txt', 'w')\n",
    "\n",
    "    #writeheaderr\n",
    "    questionfile.write('Name:\\n\\nDate:\\n\\nPeriod:\\n\\n')\n",
    "    questionfile.write((' ' * 20) + f'State Capitals Quiz form-{quizNum+1}')\n",
    "    questionfile.write('\\n\\n')\n",
    "\n",
    "    states = list(capitals.keys())\n",
    "    random.shuffle(states)\n",
    "\n",
    "    for question in range(50):\n",
    "\n",
    "        cans = capitals[states[question]]\n",
    "        wrongAnswers = list(capitals.values())\n",
    "        del wrongAnswers[wrongAnswers.index(cans)]\n",
    "        wrongAnswers = random.sample(wrongAnswers, 3)\n",
    "\n",
    "        answeroptions = wrongAnswers + [cans]\n",
    "        random.shuffle(answeroptions)\n",
    "\n",
    "        questionfile.write(f'{question+1}. What is capital of {states[question]}?\\n')\n",
    "        for i in range(4):\n",
    "            questionfile.write('    %s. %s\\n' % ('ABCD'[i], answeroptions[i]))\n",
    "        questionfile.write('\\n')\n",
    "\n",
    "        answerfile.write('%s. %s\\n' % (question + 1, 'ABCD'[answeroptions.index(cans)]))\n",
    "    questionfile.close()\n",
    "    answerfile.close()"
   ]
  },
  {
   "cell_type": "code",
   "execution_count": null,
   "id": "261dc7fd-8985-4a45-9e2d-a63592e88432",
   "metadata": {},
   "outputs": [],
   "source": []
  }
 ],
 "metadata": {
  "kernelspec": {
   "display_name": "Python 3 (ipykernel)",
   "language": "python",
   "name": "python3"
  },
  "language_info": {
   "codemirror_mode": {
    "name": "ipython",
    "version": 3
   },
   "file_extension": ".py",
   "mimetype": "text/x-python",
   "name": "python",
   "nbconvert_exporter": "python",
   "pygments_lexer": "ipython3",
   "version": "3.11.9"
  }
 },
 "nbformat": 4,
 "nbformat_minor": 5
}
